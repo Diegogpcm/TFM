{
 "cells": [
  {
   "cell_type": "code",
   "execution_count": 1,
   "id": "24d7b356",
   "metadata": {},
   "outputs": [],
   "source": [
    "import pandas as pd\n",
    "import re\n",
    "import json"
   ]
  },
  {
   "cell_type": "code",
   "execution_count": 2,
   "id": "8d0f39c7",
   "metadata": {},
   "outputs": [],
   "source": [
    "df = pd.read_csv('gigaword_train.csv')"
   ]
  },
  {
   "cell_type": "code",
   "execution_count": 3,
   "id": "bff2445b",
   "metadata": {},
   "outputs": [],
   "source": [
    "CONTEXT = \"\"\"A chat between a curious human and an artificial intelligence assistant. The assistant gives helpful, detailed, and polite answers to the human's questions.\n",
    "USER: Summarize in __WORDS__ words: __DOC__ \n",
    "ASSISTANT:\"\"\""
   ]
  },
  {
   "cell_type": "code",
   "execution_count": 4,
   "id": "cc8d9457",
   "metadata": {},
   "outputs": [
    {
     "name": "stdout",
     "output_type": "stream",
     "text": [
      "3803957\n",
      "2089717\n"
     ]
    }
   ],
   "source": [
    "# Filters\n",
    "\n",
    "print(len(df))\n",
    "df = df[df['document'].apply(len)>50]\n",
    "df = df[df['document'].apply(lambda x: 'UNK' not in x)]\n",
    "df = df[df['summary'].apply(lambda x: 'UNK' not in x)]\n",
    "df = df[df['summary'].apply(lambda x: len(x.split(' '))) < 15]\n",
    "df = df[df['summary'].apply(lambda x: all([i.isalpha() for i in x.split(' ')]))]\n",
    "print(len(df))"
   ]
  },
  {
   "cell_type": "code",
   "execution_count": 5,
   "id": "d42d22ea",
   "metadata": {},
   "outputs": [],
   "source": [
    "# Format\n",
    "def train_format(row):\n",
    "    _instruction = f\"Summarize in {len(row[1].split(' '))} words\"\n",
    "    _input = row[0]\n",
    "    _output = row[1]\n",
    "    return {'instruction':_instruction,\n",
    "           'input':_input,\n",
    "           'output':_output}"
   ]
  },
  {
   "cell_type": "code",
   "execution_count": 6,
   "id": "f3626faa",
   "metadata": {},
   "outputs": [
    {
     "data": {
      "text/html": [
       "<div>\n",
       "<style scoped>\n",
       "    .dataframe tbody tr th:only-of-type {\n",
       "        vertical-align: middle;\n",
       "    }\n",
       "\n",
       "    .dataframe tbody tr th {\n",
       "        vertical-align: top;\n",
       "    }\n",
       "\n",
       "    .dataframe thead th {\n",
       "        text-align: right;\n",
       "    }\n",
       "</style>\n",
       "<table border=\"1\" class=\"dataframe\">\n",
       "  <thead>\n",
       "    <tr style=\"text-align: right;\">\n",
       "      <th></th>\n",
       "      <th>document</th>\n",
       "      <th>summary</th>\n",
       "      <th>train</th>\n",
       "    </tr>\n",
       "  </thead>\n",
       "  <tbody>\n",
       "    <tr>\n",
       "      <th>0</th>\n",
       "      <td>australia 's current account deficit shrunk by...</td>\n",
       "      <td>australian current account deficit narrows sha...</td>\n",
       "      <td>{'instruction': 'Summarize in 6 words', 'input...</td>\n",
       "    </tr>\n",
       "    <tr>\n",
       "      <th>1</th>\n",
       "      <td>at least two people were killed in a suspected...</td>\n",
       "      <td>at least two dead in southern philippines blast</td>\n",
       "      <td>{'instruction': 'Summarize in 8 words', 'input...</td>\n",
       "    </tr>\n",
       "    <tr>\n",
       "      <th>3</th>\n",
       "      <td>south korea 's nuclear envoy kim sook urged no...</td>\n",
       "      <td>envoy urges north korea to restart nuclear dis...</td>\n",
       "      <td>{'instruction': 'Summarize in 8 words', 'input...</td>\n",
       "    </tr>\n",
       "    <tr>\n",
       "      <th>4</th>\n",
       "      <td>south korea on monday announced sweeping tax r...</td>\n",
       "      <td>skorea announces tax cuts to stimulate economy</td>\n",
       "      <td>{'instruction': 'Summarize in 7 words', 'input...</td>\n",
       "    </tr>\n",
       "    <tr>\n",
       "      <th>8</th>\n",
       "      <td>libyan leader moamer kadhafi monday promised w...</td>\n",
       "      <td>kadhafi promises wide political economic reforms</td>\n",
       "      <td>{'instruction': 'Summarize in 6 words', 'input...</td>\n",
       "    </tr>\n",
       "    <tr>\n",
       "      <th>...</th>\n",
       "      <td>...</td>\n",
       "      <td>...</td>\n",
       "      <td>...</td>\n",
       "    </tr>\n",
       "    <tr>\n",
       "      <th>3803949</th>\n",
       "      <td>chinese ambassador wang xuexian today urged is...</td>\n",
       "      <td>china urges return to peace process in middle ...</td>\n",
       "      <td>{'instruction': 'Summarize in 9 words', 'input...</td>\n",
       "    </tr>\n",
       "    <tr>\n",
       "      <th>3803951</th>\n",
       "      <td>south american prawns have been successfully b...</td>\n",
       "      <td>south american prawns bred in north china</td>\n",
       "      <td>{'instruction': 'Summarize in 7 words', 'input...</td>\n",
       "    </tr>\n",
       "    <tr>\n",
       "      <th>3803952</th>\n",
       "      <td>the state duma , the lower house of the russia...</td>\n",
       "      <td>duma urges yeltsin to reconsider troop pullout...</td>\n",
       "      <td>{'instruction': 'Summarize in 8 words', 'input...</td>\n",
       "    </tr>\n",
       "    <tr>\n",
       "      <th>3803953</th>\n",
       "      <td>the u.s. justice department today rejected a t...</td>\n",
       "      <td>us justice department rejects special probe of</td>\n",
       "      <td>{'instruction': 'Summarize in 7 words', 'input...</td>\n",
       "    </tr>\n",
       "    <tr>\n",
       "      <th>3803954</th>\n",
       "      <td>the united nations is calling for ### million ...</td>\n",
       "      <td>un seeks fund for programs in former yugoslavia</td>\n",
       "      <td>{'instruction': 'Summarize in 8 words', 'input...</td>\n",
       "    </tr>\n",
       "  </tbody>\n",
       "</table>\n",
       "<p>2089717 rows × 3 columns</p>\n",
       "</div>"
      ],
      "text/plain": [
       "                                                  document  \\\n",
       "0        australia 's current account deficit shrunk by...   \n",
       "1        at least two people were killed in a suspected...   \n",
       "3        south korea 's nuclear envoy kim sook urged no...   \n",
       "4        south korea on monday announced sweeping tax r...   \n",
       "8        libyan leader moamer kadhafi monday promised w...   \n",
       "...                                                    ...   \n",
       "3803949  chinese ambassador wang xuexian today urged is...   \n",
       "3803951  south american prawns have been successfully b...   \n",
       "3803952  the state duma , the lower house of the russia...   \n",
       "3803953  the u.s. justice department today rejected a t...   \n",
       "3803954  the united nations is calling for ### million ...   \n",
       "\n",
       "                                                   summary  \\\n",
       "0        australian current account deficit narrows sha...   \n",
       "1          at least two dead in southern philippines blast   \n",
       "3        envoy urges north korea to restart nuclear dis...   \n",
       "4           skorea announces tax cuts to stimulate economy   \n",
       "8         kadhafi promises wide political economic reforms   \n",
       "...                                                    ...   \n",
       "3803949  china urges return to peace process in middle ...   \n",
       "3803951          south american prawns bred in north china   \n",
       "3803952  duma urges yeltsin to reconsider troop pullout...   \n",
       "3803953     us justice department rejects special probe of   \n",
       "3803954    un seeks fund for programs in former yugoslavia   \n",
       "\n",
       "                                                     train  \n",
       "0        {'instruction': 'Summarize in 6 words', 'input...  \n",
       "1        {'instruction': 'Summarize in 8 words', 'input...  \n",
       "3        {'instruction': 'Summarize in 8 words', 'input...  \n",
       "4        {'instruction': 'Summarize in 7 words', 'input...  \n",
       "8        {'instruction': 'Summarize in 6 words', 'input...  \n",
       "...                                                    ...  \n",
       "3803949  {'instruction': 'Summarize in 9 words', 'input...  \n",
       "3803951  {'instruction': 'Summarize in 7 words', 'input...  \n",
       "3803952  {'instruction': 'Summarize in 8 words', 'input...  \n",
       "3803953  {'instruction': 'Summarize in 7 words', 'input...  \n",
       "3803954  {'instruction': 'Summarize in 8 words', 'input...  \n",
       "\n",
       "[2089717 rows x 3 columns]"
      ]
     },
     "execution_count": 6,
     "metadata": {},
     "output_type": "execute_result"
    }
   ],
   "source": [
    "df['train']=df.apply(train_format, axis=1)\n",
    "df"
   ]
  },
  {
   "cell_type": "code",
   "execution_count": 7,
   "id": "2dcdc1a2",
   "metadata": {},
   "outputs": [],
   "source": [
    "with open('text-generation-webui/training/datasets/gigaword_vicuna.json', 'w') as fout:\n",
    "    json.dump(list(df['train']), fout)"
   ]
  }
 ],
 "metadata": {
  "kernelspec": {
   "display_name": "Python 3 (ipykernel)",
   "language": "python",
   "name": "python3"
  },
  "language_info": {
   "codemirror_mode": {
    "name": "ipython",
    "version": 3
   },
   "file_extension": ".py",
   "mimetype": "text/x-python",
   "name": "python",
   "nbconvert_exporter": "python",
   "pygments_lexer": "ipython3",
   "version": "3.9.13"
  }
 },
 "nbformat": 4,
 "nbformat_minor": 5
}
